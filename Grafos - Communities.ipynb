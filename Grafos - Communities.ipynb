{
 "cells": [
  {
   "cell_type": "code",
   "execution_count": 1,
   "id": "8a8794e5",
   "metadata": {},
   "outputs": [
    {
     "name": "stderr",
     "output_type": "stream",
     "text": [
      "C:\\Users\\marce\\anaconda3\\lib\\site-packages\\numpy\\_distributor_init.py:30: UserWarning: loaded more than 1 DLL from .libs:\n",
      "C:\\Users\\marce\\anaconda3\\lib\\site-packages\\numpy\\.libs\\libopenblas.4SP5SUA7CBGXUEOC35YP2ASOICYYEQZZ.gfortran-win_amd64.dll\n",
      "C:\\Users\\marce\\anaconda3\\lib\\site-packages\\numpy\\.libs\\libopenblas64__v0.3.21-gcc_10_3_0.dll\n",
      "  warnings.warn(\"loaded more than 1 DLL from .libs:\"\n"
     ]
    }
   ],
   "source": [
    "import pandas as pd\n",
    "import nltk\n",
    "from nltk.tokenize import word_tokenize, sent_tokenize\n",
    "import networkx as nx\n",
    "import matplotlib.pyplot as plt\n",
    "from sklearn.feature_extraction.text import CountVectorizer\n",
    "\n",
    "stopwords = nltk.corpus.stopwords.words('portuguese')\n",
    "\n",
    "texto = ['Recomendo a todos os meus familiares e amigos porque a compra foi fácil, o aplicativo é de simples manuseio, a devolução é rápida e o estorno é garantido.',\n",
    "'Uma empresa confiável, na qual possui diversas opções de produtos.',\n",
    "'Levando em consideração o preço do produto e a facilidade da compra.',\n",
    "'Sempre indico, é a melhor empresa.',\n",
    "'Recomendaria para amigos e familiares comprarem do site, apenas se não tiverem pressa em receber o produto em casa.',\n",
    "'Certamente recomendaria, gostei da experiência.',\n",
    "'Gostei muito de todo o processo, não há do que reclamar.',\n",
    "'Entrega rápida, frete grátis e o produto chegou bem embalado.',\n",
    "'Como disse anteriormente, a parte da compra achei uma loja eficiente e confiável, entretanto, o processo de devolução e reembolso foi moroso, (ainda não finalizado).',\n",
    "'Recomendaria, pois foi fácil de achar o produto, e o preço foi bom também.',\n",
    "'Produto com boa qualidade, entrega antes do prazo, mas se quiser cancelar vai ter um pouquinho de dor de cabeça, pois não se consegue cancelar pelo aplicativo. É preciso telefonar e ficar esperando por um bom tempo, sem contar que como não enviaram a nota fiscal, tive que descobrir como tira-la e ainda por cima imprimir.'\n",
    "        ]\n",
    "\n",
    "contagem = CountVectorizer(stop_words=stopwords)\n",
    "matrix = contagem.fit_transform(texto)\n",
    "adjacency_matrix = matrix.T * matrix\n",
    "\n",
    "words = contagem.get_feature_names()\n",
    "\n",
    "G = nx.Graph()\n",
    "for palavra in words:\n",
    "    G.add_node(palavra)\n",
    "\n",
    "for i in range(len(words)):\n",
    "    for j in range(i + 1, len(words)):\n",
    "        weight = adjacency_matrix[i, j]\n",
    "        if weight > 0:\n",
    "            G.add_edge(words[i], words[j], weight=weight)\n",
    "\n",
    "# Criar DataFrame com as arestas\n",
    "edges_list = []\n",
    "for edge in G.edges(data=True):\n",
    "    source, target, attr = edge\n",
    "    weight = attr['weight']\n",
    "    edges_list.append([source, target, weight])\n",
    "\n",
    "df_edges = pd.DataFrame(edges_list, columns=['Origem', 'Destino', 'Peso'])\n",
    "\n",
    "df_edges = df_edges.groupby(['Origem','Destino'], sort=False, as_index=False).sum()\n",
    "\n",
    "\n",
    "# Create a graph from a pandas dataframe\n",
    "G = nx.from_pandas_edgelist(df_edges, \n",
    "                            source = 'Origem', \n",
    "                            target = 'Destino', \n",
    "                            edge_attr = 'Peso', \n",
    "                            create_using = nx.Graph())\n",
    "\n",
    "from pyvis.network import Network\n",
    "\n",
    "node_degree = dict(G.degree)\n"
   ]
  },
  {
   "cell_type": "code",
   "execution_count": 2,
   "id": "e7061242",
   "metadata": {},
   "outputs": [
    {
     "name": "stdout",
     "output_type": "stream",
     "text": [
      "Warning: When  cdn_resources is 'local' jupyter notebook has issues displaying graphics on chrome/safari. Use cdn_resources='in_line' or cdn_resources='remote' if you have issues viewing graphics in a notebook.\n",
      "witcher_communities.html\n"
     ]
    },
    {
     "data": {
      "text/html": [
       "\n",
       "        <iframe\n",
       "            width=\"1000px\"\n",
       "            height=\"700px\"\n",
       "            src=\"witcher_communities.html\"\n",
       "            frameborder=\"0\"\n",
       "            allowfullscreen\n",
       "            \n",
       "        ></iframe>\n",
       "        "
      ],
      "text/plain": [
       "<IPython.lib.display.IFrame at 0x1c4f0e46f10>"
      ]
     },
     "execution_count": 2,
     "metadata": {},
     "output_type": "execute_result"
    }
   ],
   "source": [
    "# Degree centrality\n",
    "degree_dict = nx.degree_centrality(G)\n",
    "\n",
    "degree_df = pd.DataFrame.from_dict(degree_dict, orient='index', columns=['centrality'])\n",
    "\n",
    "betweenness_dict = nx.betweenness_centrality(G)\n",
    "betweenness_df = pd.DataFrame.from_dict(betweenness_dict, orient='index', columns=['centrality'])\n",
    "\n",
    "closeness_dict = nx.closeness_centrality(G)\n",
    "closeness_df = pd.DataFrame.from_dict(closeness_dict, orient='index', columns=['centrality'])\n",
    "\n",
    "# Save centrality measures\n",
    "nx.set_node_attributes(G, degree_dict, 'degree_centrality')\n",
    "nx.set_node_attributes(G, betweenness_dict, 'betweenness_centrality')\n",
    "nx.set_node_attributes(G, closeness_dict, 'closeness_centrality')\n",
    "\n",
    "\n",
    "import community as community_louvain\n",
    "communities = community_louvain.best_partition(G)\n",
    "\n",
    "nx.set_node_attributes(G, communities, 'group')\n",
    "\n",
    "com_net = Network(notebook = True, width=\"1000px\", height=\"700px\", bgcolor='#222222', font_color='white')\n",
    "com_net.from_nx(G)\n",
    "com_net.show(\"witcher_communities.html\")"
   ]
  },
  {
   "cell_type": "code",
   "execution_count": null,
   "id": "cd2f287a",
   "metadata": {},
   "outputs": [],
   "source": []
  }
 ],
 "metadata": {
  "kernelspec": {
   "display_name": "Python 3 (ipykernel)",
   "language": "python",
   "name": "python3"
  },
  "language_info": {
   "codemirror_mode": {
    "name": "ipython",
    "version": 3
   },
   "file_extension": ".py",
   "mimetype": "text/x-python",
   "name": "python",
   "nbconvert_exporter": "python",
   "pygments_lexer": "ipython3",
   "version": "3.8.16"
  }
 },
 "nbformat": 4,
 "nbformat_minor": 5
}
